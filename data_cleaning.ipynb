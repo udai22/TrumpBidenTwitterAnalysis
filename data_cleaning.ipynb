{
 "cells": [
  {
   "cell_type": "markdown",
   "metadata": {},
   "source": [
    "# Data Cleaning "
   ]
  },
  {
   "cell_type": "markdown",
   "metadata": {},
   "source": [
    "We collected the data through the Twitter API, we search for a userID and the amount of tweets that we want, and the API gives us tweets back in the form of twitter objects. Not only do the tweets have the text, but they also have a load of other supplementary data. The twitter object is given back in JSON format. To create the dataset that we have, we chose a few of the data points that we wanted from each object and used lists to combine them into a dataframe. After doing this we had a dataframe generated that contained all of the data attributes that we wanted. The data points that we kept for our dataframe are: the id number, the full text, entities data, date and time created, favourites, retweets, language, geo location and who, if anyone, the tweet was in reply to."
   ]
  },
  {
   "cell_type": "code",
   "execution_count": 2,
   "metadata": {},
   "outputs": [],
   "source": [
    "import pandas as pd\n",
    "import numpy as np\n",
    "from datetime import date"
   ]
  },
  {
   "cell_type": "code",
   "execution_count": 3,
   "metadata": {},
   "outputs": [],
   "source": [
    "biden = pd.read_csv(\"biden_tweets.csv\", index_col = 0)\n",
    "trump = pd.read_csv(\"trump_tweets.csv\", index_col = 0)"
   ]
  },
  {
   "cell_type": "markdown",
   "metadata": {},
   "source": [
    "### Adding Columns for Analyses"
   ]
  },
  {
   "cell_type": "code",
   "execution_count": 4,
   "metadata": {},
   "outputs": [],
   "source": [
    "# create date time column \n",
    "biden[\"date\"] = pd.to_datetime(biden[\"created_at\"], format = \"%Y-%m-%d %H:%M:%S\")\n",
    "trump[\"date\"] = pd.to_datetime(trump[\"created_at\"], format = \"%Y-%m-%d %H:%M:%S\")\n",
    "# create time of day column \n",
    "# morning = 5 am : 12 pm = any hour value from 5 to 11 \n",
    "# afternoon = 12 pm : 5 pm = any hour value from 12 to 16 \n",
    "# evening = 5 pm : 10 pm = any hour value from 17 to 22 \n",
    "# night = 10 pm : 5 am = any hour value from 23 to 4 (23,0,1,2,3,4) <- wrap around\n",
    "def time_of_day (x):\n",
    "    hour = x.hour \n",
    "    if  5 <= hour <= 11: \n",
    "        return \"morning\"\n",
    "    elif 12 <= hour <= 16:\n",
    "        return \"afternoon\"\n",
    "    elif 17 <= hour <= 22:\n",
    "        return \"evening\"\n",
    "    else:\n",
    "        return \"night\"\n",
    "\n",
    "# column for hour of day tweet posted \n",
    "def hour(x):\n",
    "    return x.hour \n",
    "\n",
    "# create column for tweet word count  \n",
    "def tweet_length (x):\n",
    "    return len(x.split())\n",
    "\n",
    "# create columns that contain series of night vs day where night = 1 , day = 0 \n",
    "day_night_map = {\"morning\":0, \"afternoon\":0, \"evening\":1, \"night\":1}\n",
    "\n",
    "\n",
    "def to_election_norm(x, dates):\n",
    "    x['days_to_election'] = date(2020, 11, 3) - dates.dt.date\n",
    "    # convert from day object to int  \n",
    "    x['days_to_election'] = x['days_to_election'].dt.days\n",
    "\n",
    "def to_election_group(x, dates):\n",
    "    x['days_to_election'] = date(2020, 11, 3) - dates\n",
    "    # convert from day object to int  \n",
    "    x['days_to_election'] = x['days_to_election'].dt.days"
   ]
  },
  {
   "cell_type": "markdown",
   "metadata": {},
   "source": [
    "### Applying functions (using pd.map)"
   ]
  },
  {
   "cell_type": "code",
   "execution_count": 5,
   "metadata": {},
   "outputs": [],
   "source": [
    "# cell for applying functions and actually creating the columns \n",
    "biden['time_of_day'] = biden['date'].map(time_of_day)\n",
    "biden['tweet_length'] = biden['full_text'].map(tweet_length) # word count of each tweet \n",
    "biden['hour'] = biden['date'].map(hour)\n",
    "biden['day_or_night'] = biden['time_of_day'].map(day_night_map)\n",
    "\n",
    "trump['time_of_day'] = trump['date'].map(time_of_day)\n",
    "trump['tweet_length'] = trump['full_text'].map(tweet_length)\n",
    "trump['hour'] = biden['date'].map(hour)\n",
    "trump['day_or_night'] = trump['time_of_day'].map(day_night_map)\n",
    "\n",
    "# create grouped_dfs by day \n",
    "\n",
    "bidenbyday = (biden['date'].dt.date).value_counts().rename_axis('unique_dates').reset_index(name='tweets_each_day')\n",
    "trumpbyday= (trump['date'].dt.date).value_counts().rename_axis('unique_dates').reset_index(name='tweets_each_day')\n",
    "\n",
    "\n",
    "to_election_norm(biden, biden['date'])\n",
    "to_election_norm(trump, trump['date'])\n",
    "# for bidenbyday and trumpbyday df \n",
    "to_election_group(bidenbyday, bidenbyday['unique_dates'])\n",
    "to_election_group(trumpbyday, trumpbyday['unique_dates'])"
   ]
  },
  {
   "cell_type": "markdown",
   "metadata": {},
   "source": [
    "#### We obtained Biden and Trump tweets by day from the following source: https://stackoverflow.com/questions/47136436/python-pandas-convert-value-counts-output-to-dataframe"
   ]
  },
  {
   "cell_type": "markdown",
   "metadata": {},
   "source": [
    "### Output to new CSV files"
   ]
  },
  {
   "cell_type": "code",
   "execution_count": 15,
   "metadata": {},
   "outputs": [],
   "source": [
    "bidenbyday.to_csv(\"bidenbyday.csv\")\n",
    "trumpbyday.to_csv(\"trumpbyday.csv\")\n",
    "biden.to_csv(\"biden_updated.csv\")\n",
    "trump.to_csv(\"trump_updated.csv\")"
   ]
  },
  {
   "cell_type": "code",
   "execution_count": 16,
   "metadata": {},
   "outputs": [
    {
     "data": {
      "text/html": [
       "<div>\n",
       "<style scoped>\n",
       "    .dataframe tbody tr th:only-of-type {\n",
       "        vertical-align: middle;\n",
       "    }\n",
       "\n",
       "    .dataframe tbody tr th {\n",
       "        vertical-align: top;\n",
       "    }\n",
       "\n",
       "    .dataframe thead th {\n",
       "        text-align: right;\n",
       "    }\n",
       "</style>\n",
       "<table border=\"1\" class=\"dataframe\">\n",
       "  <thead>\n",
       "    <tr style=\"text-align: right;\">\n",
       "      <th></th>\n",
       "      <th>id</th>\n",
       "      <th>full_text</th>\n",
       "      <th>entities</th>\n",
       "      <th>created_at</th>\n",
       "      <th>favourite</th>\n",
       "      <th>retweets</th>\n",
       "      <th>language</th>\n",
       "      <th>geo</th>\n",
       "      <th>in_reply</th>\n",
       "      <th>date</th>\n",
       "      <th>time_of_day</th>\n",
       "      <th>tweet_length</th>\n",
       "      <th>hour</th>\n",
       "      <th>day_or_night</th>\n",
       "      <th>days_to_election</th>\n",
       "    </tr>\n",
       "  </thead>\n",
       "  <tbody>\n",
       "    <tr>\n",
       "      <td>0</td>\n",
       "      <td>1313663334286323714</td>\n",
       "      <td>Please. https://t.co/acHR1Rf8hE</td>\n",
       "      <td>{'hashtags': [], 'symbols': [], 'user_mentions...</td>\n",
       "      <td>2020-10-07 02:12:00</td>\n",
       "      <td>90289</td>\n",
       "      <td>14867</td>\n",
       "      <td>en</td>\n",
       "      <td>NaN</td>\n",
       "      <td>NaN</td>\n",
       "      <td>2020-10-07 02:12:00</td>\n",
       "      <td>night</td>\n",
       "      <td>2</td>\n",
       "      <td>2</td>\n",
       "      <td>1</td>\n",
       "      <td>27</td>\n",
       "    </tr>\n",
       "    <tr>\n",
       "      <td>1</td>\n",
       "      <td>1313652765319557122</td>\n",
       "      <td>I can’t wait for @KamalaHarris to make history...</td>\n",
       "      <td>{'hashtags': [], 'symbols': [], 'user_mentions...</td>\n",
       "      <td>2020-10-07 01:30:00</td>\n",
       "      <td>13317</td>\n",
       "      <td>2126</td>\n",
       "      <td>en</td>\n",
       "      <td>NaN</td>\n",
       "      <td>NaN</td>\n",
       "      <td>2020-10-07 01:30:00</td>\n",
       "      <td>night</td>\n",
       "      <td>30</td>\n",
       "      <td>1</td>\n",
       "      <td>1</td>\n",
       "      <td>27</td>\n",
       "    </tr>\n",
       "    <tr>\n",
       "      <td>2</td>\n",
       "      <td>1313646473393840128</td>\n",
       "      <td>Ignore the polls, folks. There’s too much at s...</td>\n",
       "      <td>{'hashtags': [], 'symbols': [], 'user_mentions...</td>\n",
       "      <td>2020-10-07 01:05:00</td>\n",
       "      <td>56278</td>\n",
       "      <td>12104</td>\n",
       "      <td>en</td>\n",
       "      <td>NaN</td>\n",
       "      <td>NaN</td>\n",
       "      <td>2020-10-07 01:05:00</td>\n",
       "      <td>night</td>\n",
       "      <td>28</td>\n",
       "      <td>1</td>\n",
       "      <td>1</td>\n",
       "      <td>27</td>\n",
       "    </tr>\n",
       "    <tr>\n",
       "      <td>3</td>\n",
       "      <td>1313641691602202624</td>\n",
       "      <td>Think about what it takes for a Black person t...</td>\n",
       "      <td>{'hashtags': [], 'symbols': [], 'user_mentions...</td>\n",
       "      <td>2020-10-07 00:46:00</td>\n",
       "      <td>30592</td>\n",
       "      <td>6574</td>\n",
       "      <td>en</td>\n",
       "      <td>NaN</td>\n",
       "      <td>NaN</td>\n",
       "      <td>2020-10-07 00:46:00</td>\n",
       "      <td>night</td>\n",
       "      <td>30</td>\n",
       "      <td>0</td>\n",
       "      <td>1</td>\n",
       "      <td>27</td>\n",
       "    </tr>\n",
       "    <tr>\n",
       "      <td>4</td>\n",
       "      <td>1313633890289045504</td>\n",
       "      <td>Look, folks, I'm going to be honest: we'll try...</td>\n",
       "      <td>{'hashtags': [], 'symbols': [], 'user_mentions...</td>\n",
       "      <td>2020-10-07 00:15:00</td>\n",
       "      <td>13490</td>\n",
       "      <td>3023</td>\n",
       "      <td>en</td>\n",
       "      <td>NaN</td>\n",
       "      <td>NaN</td>\n",
       "      <td>2020-10-07 00:15:00</td>\n",
       "      <td>night</td>\n",
       "      <td>43</td>\n",
       "      <td>0</td>\n",
       "      <td>1</td>\n",
       "      <td>27</td>\n",
       "    </tr>\n",
       "  </tbody>\n",
       "</table>\n",
       "</div>"
      ],
      "text/plain": [
       "                    id                                          full_text  \\\n",
       "0  1313663334286323714                    Please. https://t.co/acHR1Rf8hE   \n",
       "1  1313652765319557122  I can’t wait for @KamalaHarris to make history...   \n",
       "2  1313646473393840128  Ignore the polls, folks. There’s too much at s...   \n",
       "3  1313641691602202624  Think about what it takes for a Black person t...   \n",
       "4  1313633890289045504  Look, folks, I'm going to be honest: we'll try...   \n",
       "\n",
       "                                            entities           created_at  \\\n",
       "0  {'hashtags': [], 'symbols': [], 'user_mentions...  2020-10-07 02:12:00   \n",
       "1  {'hashtags': [], 'symbols': [], 'user_mentions...  2020-10-07 01:30:00   \n",
       "2  {'hashtags': [], 'symbols': [], 'user_mentions...  2020-10-07 01:05:00   \n",
       "3  {'hashtags': [], 'symbols': [], 'user_mentions...  2020-10-07 00:46:00   \n",
       "4  {'hashtags': [], 'symbols': [], 'user_mentions...  2020-10-07 00:15:00   \n",
       "\n",
       "   favourite  retweets language  geo  in_reply                date  \\\n",
       "0      90289     14867       en  NaN       NaN 2020-10-07 02:12:00   \n",
       "1      13317      2126       en  NaN       NaN 2020-10-07 01:30:00   \n",
       "2      56278     12104       en  NaN       NaN 2020-10-07 01:05:00   \n",
       "3      30592      6574       en  NaN       NaN 2020-10-07 00:46:00   \n",
       "4      13490      3023       en  NaN       NaN 2020-10-07 00:15:00   \n",
       "\n",
       "  time_of_day  tweet_length  hour  day_or_night  days_to_election  \n",
       "0       night             2     2             1                27  \n",
       "1       night            30     1             1                27  \n",
       "2       night            28     1             1                27  \n",
       "3       night            30     0             1                27  \n",
       "4       night            43     0             1                27  "
      ]
     },
     "execution_count": 16,
     "metadata": {},
     "output_type": "execute_result"
    }
   ],
   "source": [
    "biden.head()"
   ]
  },
  {
   "cell_type": "code",
   "execution_count": 7,
   "metadata": {},
   "outputs": [
    {
     "data": {
      "text/plain": [
       "pandas._libs.tslibs.timestamps.Timestamp"
      ]
     },
     "execution_count": 7,
     "metadata": {},
     "output_type": "execute_result"
    }
   ],
   "source": [
    "type(biden.date[0])"
   ]
  },
  {
   "cell_type": "code",
   "execution_count": 8,
   "metadata": {},
   "outputs": [
    {
     "data": {
      "text/plain": [
       "0      2020-10-07 02:12:00\n",
       "1      2020-10-07 01:30:00\n",
       "2      2020-10-07 01:05:00\n",
       "3      2020-10-07 00:46:00\n",
       "4      2020-10-07 00:15:00\n",
       "               ...        \n",
       "3079   2019-10-16 03:24:14\n",
       "3080   2019-10-16 03:21:44\n",
       "3081   2019-10-16 03:13:06\n",
       "3082   2019-10-16 02:47:51\n",
       "3083   2019-10-16 02:35:02\n",
       "Name: date, Length: 3084, dtype: datetime64[ns]"
      ]
     },
     "execution_count": 8,
     "metadata": {},
     "output_type": "execute_result"
    }
   ],
   "source": [
    "biden['date']"
   ]
  },
  {
   "cell_type": "code",
   "execution_count": 10,
   "metadata": {},
   "outputs": [
    {
     "data": {
      "text/plain": [
       "datetime.date(2020, 9, 30)"
      ]
     },
     "execution_count": 10,
     "metadata": {},
     "output_type": "execute_result"
    }
   ],
   "source": [
    "bidenbyday[\"unique_dates\"][0]"
   ]
  },
  {
   "cell_type": "code",
   "execution_count": null,
   "metadata": {},
   "outputs": [],
   "source": []
  }
 ],
 "metadata": {
  "kernelspec": {
   "display_name": "Python 3",
   "language": "python",
   "name": "python3"
  },
  "language_info": {
   "codemirror_mode": {
    "name": "ipython",
    "version": 3
   },
   "file_extension": ".py",
   "mimetype": "text/x-python",
   "name": "python",
   "nbconvert_exporter": "python",
   "pygments_lexer": "ipython3",
   "version": "3.7.4"
  }
 },
 "nbformat": 4,
 "nbformat_minor": 4
}
